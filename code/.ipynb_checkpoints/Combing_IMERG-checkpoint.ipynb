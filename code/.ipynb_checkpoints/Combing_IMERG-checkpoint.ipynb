{
 "cells": [
  {
   "cell_type": "code",
   "execution_count": null,
   "id": "40ed5a65-68c7-46fc-b1c3-6ece011cc627",
   "metadata": {},
   "outputs": [],
   "source": [
    "%matplotlib inline\n",
    "import matplotlib.pyplot as plt\n",
    "#from datetime import datetime\n",
    "import os\n",
    "#import requests\n",
    "import pandas as pd\n",
    "#import numpy as np\n",
    "import xarray as xr\n",
    "#import datetime\n",
    "import warnings\n",
    "warnings.simplefilter(\"ignore\", category=RuntimeWarning)\n",
    "\n",
    "#filepath = './../../imerg/imerg'\n",
    "filepath = './../data/daily/imerg'\n",
    "fileout = './../data/imerg'\n"
   ]
  },
  {
   "cell_type": "code",
   "execution_count": null,
   "id": "bbd0c549-a2c6-4a73-a197-982f56272e59",
   "metadata": {},
   "outputs": [],
   "source": [
    "#combine all files in year into a single file\n",
    "istart=0\n",
    "for year in range(2023,2025):\n",
    "    for day in range(1, 366):  \n",
    "        file_name = filepath+str(year)+str(day)+'.nc'\n",
    "        if not(os.path.exists(file_name)):\n",
    "            continue\n",
    "        #print(file_name)\n",
    "        ds_ts=xr.open_dataset(file_name)\n",
    "        if istart==0:\n",
    "            ds_ts2 = ds_ts\n",
    "            istart=1\n",
    "        else:\n",
    "            ds_ts2 = xr.concat([ds_ts2,ds_ts],dim='time')\n",
    "        ds_ts.close()    \n",
    "file_output_name = fileout+str(year)+'_all.nc'\n",
    "ds_ts2.to_netcdf(file_output_name)\n",
    "df = ds_ts2.to_dataframe()\n",
    "df = df.drop(columns=['lon','lat'])\n",
    "file_output_name = fileout+'_all.csv'\n",
    "df.to_csv(file_output_name)\n",
    "print('output',file_output_name)\n",
    "\n",
    "# Jun 21, 2023, 14:58 GMT\n",
    "#Jun 20, 2024, 20:51 GMT\n",
    "file_output_name = fileout+'_2023SummerSol.nc'\n",
    "ds = ds_ts2.sel(time=slice('2023-06-21T14:58','2024-06-20T20:51'))\n",
    "ds.to_netcdf(file_output_name)\n",
    "df = ds.to_dataframe()\n",
    "df = df.drop(columns=['lon','lat'])\n",
    "file_output_name = fileout+'_2023SummerSol.csv'\n",
    "df.to_csv(file_output_name)\n",
    "print('output',file_output_name)\n",
    "\n"
   ]
  },
  {
   "cell_type": "code",
   "execution_count": null,
   "id": "69030750-a6dc-43b7-a150-b7be7dcd97e7",
   "metadata": {},
   "outputs": [],
   "source": [
    "ds_ts2.precipitation.plot()\n",
    "ds.precipitation.plot()"
   ]
  },
  {
   "cell_type": "code",
   "execution_count": null,
   "id": "206cba89-0e2e-403c-852e-06f97bac2028",
   "metadata": {},
   "outputs": [],
   "source": []
  }
 ],
 "metadata": {
  "kernelspec": {
   "display_name": "Python 3 (ipykernel)",
   "language": "python",
   "name": "python3"
  },
  "language_info": {
   "codemirror_mode": {
    "name": "ipython",
    "version": 3
   },
   "file_extension": ".py",
   "mimetype": "text/x-python",
   "name": "python",
   "nbconvert_exporter": "python",
   "pygments_lexer": "ipython3",
   "version": "3.12.5"
  }
 },
 "nbformat": 4,
 "nbformat_minor": 5
}
