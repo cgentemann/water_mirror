{
 "cells": [
  {
   "cell_type": "code",
   "execution_count": 2,
   "id": "d43d243f-45ca-4589-b76c-3d9141ef0c2e",
   "metadata": {},
   "outputs": [],
   "source": [
    "import pandas as pd\n",
    "import matplotlib.pyplot as plt\n",
    "import numpy as np\n",
    "from PIL import Image\n",
    "import os"
   ]
  },
  {
   "cell_type": "code",
   "execution_count": 16,
   "id": "d4d558fb-1bd6-42a5-9ff9-e274dd134803",
   "metadata": {},
   "outputs": [
    {
     "data": {
      "text/html": [
       "<div>\n",
       "<style scoped>\n",
       "    .dataframe tbody tr th:only-of-type {\n",
       "        vertical-align: middle;\n",
       "    }\n",
       "\n",
       "    .dataframe tbody tr th {\n",
       "        vertical-align: top;\n",
       "    }\n",
       "\n",
       "    .dataframe thead th {\n",
       "        text-align: right;\n",
       "    }\n",
       "</style>\n",
       "<table border=\"1\" class=\"dataframe\">\n",
       "  <thead>\n",
       "    <tr style=\"text-align: right;\">\n",
       "      <th></th>\n",
       "      <th>HourlyDryBulbTemperature</th>\n",
       "      <th>HourlyVisibility</th>\n",
       "      <th>HourlyWindSpeed</th>\n",
       "      <th>HourlyWindDirection</th>\n",
       "      <th>HourlyPrecipitation</th>\n",
       "    </tr>\n",
       "    <tr>\n",
       "      <th>timestamp</th>\n",
       "      <th></th>\n",
       "      <th></th>\n",
       "      <th></th>\n",
       "      <th></th>\n",
       "      <th></th>\n",
       "    </tr>\n",
       "  </thead>\n",
       "  <tbody>\n",
       "    <tr>\n",
       "      <th>2023-01-01 00:56:00</th>\n",
       "      <td>0.276667</td>\n",
       "      <td>1.0</td>\n",
       "      <td>0.208145</td>\n",
       "      <td>0.26026</td>\n",
       "      <td>0.0</td>\n",
       "    </tr>\n",
       "    <tr>\n",
       "      <th>2023-01-01 01:56:00</th>\n",
       "      <td>0.260000</td>\n",
       "      <td>1.0</td>\n",
       "      <td>0.140271</td>\n",
       "      <td>0.24024</td>\n",
       "      <td>0.0</td>\n",
       "    </tr>\n",
       "    <tr>\n",
       "      <th>2023-01-01 02:56:00</th>\n",
       "      <td>0.260000</td>\n",
       "      <td>1.0</td>\n",
       "      <td>0.280543</td>\n",
       "      <td>0.25025</td>\n",
       "      <td>0.0</td>\n",
       "    </tr>\n",
       "    <tr>\n",
       "      <th>2023-01-01 03:56:00</th>\n",
       "      <td>0.276667</td>\n",
       "      <td>1.0</td>\n",
       "      <td>0.420814</td>\n",
       "      <td>0.25025</td>\n",
       "      <td>0.0</td>\n",
       "    </tr>\n",
       "    <tr>\n",
       "      <th>2023-01-01 04:00:00</th>\n",
       "      <td>0.276667</td>\n",
       "      <td>1.0</td>\n",
       "      <td>0.420814</td>\n",
       "      <td>0.25025</td>\n",
       "      <td>0.0</td>\n",
       "    </tr>\n",
       "  </tbody>\n",
       "</table>\n",
       "</div>"
      ],
      "text/plain": [
       "                     HourlyDryBulbTemperature  HourlyVisibility  \\\n",
       "timestamp                                                         \n",
       "2023-01-01 00:56:00                  0.276667               1.0   \n",
       "2023-01-01 01:56:00                  0.260000               1.0   \n",
       "2023-01-01 02:56:00                  0.260000               1.0   \n",
       "2023-01-01 03:56:00                  0.276667               1.0   \n",
       "2023-01-01 04:00:00                  0.276667               1.0   \n",
       "\n",
       "                     HourlyWindSpeed  HourlyWindDirection  HourlyPrecipitation  \n",
       "timestamp                                                                       \n",
       "2023-01-01 00:56:00         0.208145              0.26026                  0.0  \n",
       "2023-01-01 01:56:00         0.140271              0.24024                  0.0  \n",
       "2023-01-01 02:56:00         0.280543              0.25025                  0.0  \n",
       "2023-01-01 03:56:00         0.420814              0.25025                  0.0  \n",
       "2023-01-01 04:00:00         0.420814              0.25025                  0.0  "
      ]
     },
     "execution_count": 16,
     "metadata": {},
     "output_type": "execute_result"
    }
   ],
   "source": [
    "filename = \"../data/SFO_preciptation_2023.csv\"\n",
    "df = pd.read_csv(filename, delimiter=',')\n",
    "keep = ['DATE', 'HourlyDryBulbTemperature', 'HourlyVisibility', 'HourlyWindSpeed','HourlyWindDirection', 'HourlyPrecipitation']\n",
    "df = df[keep]\n",
    "df.ffill(inplace=True)\n",
    "df['timestamp']=pd.to_datetime(df['DATE'], format='%Y-%m-%dT%H:%M:%S')\n",
    "df.set_index(df['timestamp'], inplace=True)\n",
    "df.drop(columns=['DATE'], inplace=True)\n",
    "# Drop the 'STATION' column\n",
    "df.drop(columns=['timestamp'], inplace=True)\n",
    "# Convert object columns to numeric\n",
    "df = df.apply(pd.to_numeric, errors='coerce')\n",
    "# Replace NaN values with 0.0\n",
    "df.fillna(0.0, inplace=True)\n",
    "df = df.iloc[2:]\n",
    "#normalize each column: \n",
    "df_normalized = df.copy()  # Create a copy of the original DataFrame\n",
    "columns_to_normalize = ['HourlyDryBulbTemperature', 'HourlyVisibility', 'HourlyWindSpeed', 'HourlyWindDirection', 'HourlyPrecipitation']\n",
    "for column in columns_to_normalize:\n",
    "    df_normalized[column] = (df[column] - df[column].min()) / (df[column].max() - df[column].min())\n",
    "df_normalized.head()"
   ]
  },
  {
   "cell_type": "code",
   "execution_count": 17,
   "id": "2922f1cc-6f63-4097-bc63-f7038bef51ab",
   "metadata": {},
   "outputs": [
    {
     "data": {
      "image/png": "[encoded data removed]",
      "text/plain": [
       "<Figure size 1500x500 with 1 Axes>"
      ]
     },
     "metadata": {},
     "output_type": "display_data"
    }
   ],
   "source": [
    "plt.figure(figsize =(15,5))\n",
    "plt.plot(df_normalized.index, df_normalized[\"HourlyPrecipitation\"])\n",
    "plt.show()"
   ]
  },
  {
   "cell_type": "code",
   "execution_count": 1,
   "id": "600f3210-b450-44f7-b131-824fa50a336c",
   "metadata": {},
   "outputs": [],
   "source": [
    "#interpolate"
   ]
  },
  {
   "cell_type": "code",
   "execution_count": null,
   "id": "a20acd92-c981-4b84-8ef0-770cb51c687c",
   "metadata": {},
   "outputs": [],
   "source": [
    "df_normalized.to_csv('../data/precipitation.csv')"
   ]
  }
 ],
 "metadata": {
  "kernelspec": {
   "display_name": "Python 3 (ipykernel)",
   "language": "python",
   "name": "python3"
  },
  "language_info": {
   "codemirror_mode": {
    "name": "ipython",
    "version": 3
   },
   "file_extension": ".py",
   "mimetype": "text/x-python",
   "name": "python",
   "nbconvert_exporter": "python",
   "pygments_lexer": "ipython3",
   "version": "3.12.2"
  }
 },
 "nbformat": 4,
 "nbformat_minor": 5
}
