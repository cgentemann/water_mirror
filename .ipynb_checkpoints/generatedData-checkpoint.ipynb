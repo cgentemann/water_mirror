{
 "cells": [
  {
   "cell_type": "code",
   "execution_count": 1,
   "id": "76968877-36f4-4354-9d58-69bdee731874",
   "metadata": {},
   "outputs": [],
   "source": [
    "import pandas as pd\n",
    "import numpy as np\n",
    "import matplotlib.pyplot as plt"
   ]
  },
  {
   "cell_type": "code",
   "execution_count": 2,
   "id": "b066d338-38ac-4597-bdfa-22f63327acb8",
   "metadata": {},
   "outputs": [
    {
     "name": "stdout",
     "output_type": "stream",
     "text": [
      "131129\n"
     ]
    }
   ],
   "source": [
    "\n",
    "# Generate the timestamps\n",
    "timestamps = pd.date_range(start=\"2023-06-21 19:57:00\", end=\"2024-06-20 01:51:00\", freq='4min')\n",
    "\n",
    "# Number of data points\n",
    "n = len(timestamps)\n",
    "print (n)"
   ]
  },
  {
   "cell_type": "code",
   "execution_count": 3,
   "id": "3f2f3d7e-14c6-45c2-9b11-51c543393656",
   "metadata": {},
   "outputs": [],
   "source": [
    "#Generate inverse bell curve for electricity (more in the summers, less in the winters)\n",
    "t = np.linspace(0, 2*np.pi, n)\n",
    "electricity = ( 0.5 + 0.5 * np.cos(t)) *0.8+0.2  # Inverse bell curve, cosine starts high in summer\n",
    "rain = 1.0 - ( 0.5 + 0.5 * np.cos(t)) \n",
    "\n",
    "# Generate random values for water\n",
    "water = np.random.rand(n)\n",
    "\n",
    "\n",
    "     \n",
    "# Create the DataFrame\n",
    "df = pd.DataFrame({\n",
    "    'timestamp': timestamps,\n",
    "    'water': water,\n",
    "    'rain': rain,\n",
    "    'electricity': electricity\n",
    "})\n",
    "\n",
    "#prune rain\n",
    "indices_to_zero = np.random.choice(df.index, size=int(0.97 * len(df)), replace=False)\n",
    "df.loc[indices_to_zero, 'rain'] = 0"
   ]
  },
  {
   "cell_type": "code",
   "execution_count": null,
   "id": "d68a5b2c-fce1-4d59-95f1-5acc587f5cde",
   "metadata": {},
   "outputs": [],
   "source": [
    "# Plot all columns\n",
    "plt.figure(figsize=(10, 6))\n",
    "\n",
    "plt.plot(df['timestamp'], df['water'], label='Water', alpha=0.7)\n",
    "plt.plot(df['timestamp'], df['rain'], label='Rain', alpha=0.7)\n",
    "plt.plot(df['timestamp'], df['electricity'], label='Electricity', alpha=0.7)\n",
    "\n",
    "plt.title(\"Water, Rain, and Electricity Over Time\")\n",
    "plt.xlabel(\"Time\")\n",
    "plt.ylabel(\"Normalized Values\")\n",
    "plt.legend()\n",
    "plt.xticks(rotation=45)\n",
    "plt.tight_layout()\n",
    "\n",
    "# Display the plot\n",
    "plt.show()\n"
   ]
  },
  {
   "cell_type": "code",
   "execution_count": null,
   "id": "1e831cef-76f2-4e1c-8174-5a47a8ddef52",
   "metadata": {},
   "outputs": [],
   "source": [
    "df.to_csv('./data/generated.csv'"
   ]
  }
 ],
 "metadata": {
  "kernelspec": {
   "display_name": "Python 3 (ipykernel)",
   "language": "python",
   "name": "python3"
  },
  "language_info": {
   "codemirror_mode": {
    "name": "ipython",
    "version": 3
   },
   "file_extension": ".py",
   "mimetype": "text/x-python",
   "name": "python",
   "nbconvert_exporter": "python",
   "pygments_lexer": "ipython3",
   "version": "3.10.10"
  }
 },
 "nbformat": 4,
 "nbformat_minor": 5
}
